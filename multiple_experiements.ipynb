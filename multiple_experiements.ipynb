{
 "cells": [
  {
   "cell_type": "markdown",
   "metadata": {},
   "source": [
    "# Оценивание параметров в Гауссовых смешанных моделях с помощью тензорных разложений"
   ]
  },
  {
   "cell_type": "code",
   "execution_count": 1,
   "metadata": {},
   "outputs": [],
   "source": [
    "import numpy as np\n",
    "import matplotlib.pyplot as plt\n",
    "from matplotlib.patches import Ellipse\n",
    "from pandas import DataFrame\n",
    "import matplotlib.pyplot as plt\n",
    "from sklearn.cluster import KMeans\n",
    "from sklearn.mixture import GaussianMixture"
   ]
  },
  {
   "cell_type": "code",
   "execution_count": 2,
   "metadata": {},
   "outputs": [],
   "source": [
    "#d = 10, k = 6\n",
    "d = 8 #размерность\n",
    "k = 6  #число распределений\n",
    "#k должно быть <= d из-за процедуры отбеливания\n",
    "n = 100#количество точек\n",
    "total = k * n  #точек всего\n",
    "s = 5 #дисперсия\n",
    "s_out = 3#дисперсия выброса\n",
    "dist = 20\n",
    "spher = True\n",
    "cov_range = 2"
   ]
  },
  {
   "cell_type": "code",
   "execution_count": 3,
   "metadata": {},
   "outputs": [],
   "source": [
    "true_labels = [0]*total"
   ]
  },
  {
   "cell_type": "code",
   "execution_count": 4,
   "metadata": {},
   "outputs": [],
   "source": [
    "def generate_data():\n",
    "    A = -dist+(dist+dist)*np.random.rand(d, k)\n",
    "    X = np.zeros((total, d))\n",
    "\n",
    "    for i in range(k):\n",
    "        mean = np.transpose(A[:, i])\n",
    "        if spher:\n",
    "            covariance = s * np.identity(d)\n",
    "        else:\n",
    "            a = -cov_range + (cov_range + cov_range) * np.random.rand(d, d)\n",
    "            covariance = np.matmul(np.transpose(a), a)\n",
    "        mvn = np.random.multivariate_normal(mean, covariance, n)\n",
    "        #plt.plot(mvn[:, 0], mvn[:, 1], '.')\n",
    "        #plt.plot(mean[0], mean[1], 'x')\n",
    "        X[i*n:(i+1)*n, :] = mvn\n",
    "        for j in range(i*n, (i+1)*n):\n",
    "            true_labels[j] = i\n",
    "        \n",
    "    return (X, A)"
   ]
  },
  {
   "cell_type": "code",
   "execution_count": 5,
   "metadata": {},
   "outputs": [],
   "source": [
    "def calculate_first_moment(X):\n",
    "    mu = np.zeros((d, 1))\n",
    "    for t in range(total):\n",
    "        for i in range(d):\n",
    "            mu[i] += + X[t, i]\n",
    "    mu /= total\n",
    "    return mu"
   ]
  },
  {
   "cell_type": "code",
   "execution_count": 6,
   "metadata": {},
   "outputs": [],
   "source": [
    "def calculate_second_moment(X):\n",
    "    Sigma = np.zeros((d, d))\n",
    "    for t in range(total):\n",
    "        for i in range(d):\n",
    "            for j in range(d):\n",
    "                Sigma[i, j] += np.dot(X[t, i],X[t, j])\n",
    "    Sigma /= total\n",
    "    return Sigma"
   ]
  },
  {
   "cell_type": "code",
   "execution_count": 7,
   "metadata": {},
   "outputs": [],
   "source": [
    "def extract_information_from_second_moment(Sigma, X):\n",
    "    U, S, _ = np.linalg.svd(Sigma)\n",
    "    s_est = S[-1]\n",
    "    W, X_whit = perform_whitening(X, U, S)\n",
    "    return (s_est, W, X_whit)"
   ]
  },
  {
   "cell_type": "code",
   "execution_count": 8,
   "metadata": {},
   "outputs": [],
   "source": [
    "def perform_whitening(X, U, S):\n",
    "    W = np.matmul(U[:, 0:k], np.sqrt(np.linalg.pinv(np.diag(S[0:k]))))\n",
    "    X_whit = np.matmul(X, W)\n",
    "    return (W, X_whit)"
   ]
  },
  {
   "cell_type": "code",
   "execution_count": 9,
   "metadata": {},
   "outputs": [],
   "source": [
    "def perform_tensor_power_method(X_whit, W, s_est, mu):\n",
    "    TOL = 1e-8\n",
    "    maxiter = 100\n",
    "    V_est = np.zeros((k, k))\n",
    "    lamb = np.zeros((k, 1))\n",
    "\n",
    "    for i in range(k):\n",
    "        v_old = np.random.rand(k, 1)\n",
    "        v_old = np.divide(v_old, np.linalg.norm(v_old))\n",
    "        for iter in range(maxiter):\n",
    "            v_new = (np.matmul(np.transpose(X_whit), (np.matmul(X_whit, v_old) * np.matmul(X_whit, v_old)))) / total\n",
    "            #v_new = v_new - s_est * (W' * mu * dot((W*v_old),(W*v_old)));\n",
    "            #v_new = v_new - s_est * (2 * W' * W * v_old * ((W'*mu)' * (v_old)));\n",
    "            v_new -= s_est * (np.matmul(np.matmul(W.T, mu), np.dot(np.matmul(W, v_old).T,np.matmul(W, v_old))))\n",
    "            v_new -= s_est * (2 * np.matmul(W.T, np.matmul(W, np.matmul(v_old, np.matmul(np.matmul(W.T, mu).T, v_old)))))\n",
    "            if i > 0:\n",
    "                for j in range(i):\n",
    "                    v_new -= np.reshape(V_est[:, j] * np.power(np.matmul(np.transpose(v_old), V_est[:, j]), 2) * lamb[j], (k, 1))\n",
    "            l = np.linalg.norm(v_new)\n",
    "            v_new = np.divide(v_new, np.linalg.norm(v_new))\n",
    "            if np.linalg.norm(v_old - v_new) < TOL:\n",
    "                V_est[:, i] = np.reshape(v_new, k)\n",
    "                lamb[i] = l\n",
    "                break\n",
    "            v_old = v_new\n",
    "    \n",
    "    return (V_est, lamb)"
   ]
  },
  {
   "cell_type": "code",
   "execution_count": 10,
   "metadata": {},
   "outputs": [],
   "source": [
    "def perform_backwards_transformation(V_est, lamb):\n",
    "    return np.matmul(np.matmul(np.linalg.pinv(np.transpose(W)), V_est), np.diag(np.reshape(lamb.T, k)))"
   ]
  },
  {
   "cell_type": "code",
   "execution_count": 11,
   "metadata": {},
   "outputs": [],
   "source": [
    "import scipy\n",
    "def find_mode(lst):\n",
    "    return stats.mode(lst)\n",
    "def multivariateGaussian(X, mu, sigma):\n",
    "    k = len(mu)\n",
    "    X = X - mu.T\n",
    "    p = 1/((2*np.pi)**(k/2)*(np.linalg.det(sigma)**0.5))* np.exp(-0.5* np.sum(X @ np.linalg.pinv(sigma) * X,axis=1))\n",
    "    return p\n"
   ]
  },
  {
   "cell_type": "code",
   "execution_count": 12,
   "metadata": {},
   "outputs": [],
   "source": [
    "def Kmeans(X):\n",
    "    dim = [0]*k\n",
    "    for i in range(k):\n",
    "        dim[i] = list()\n",
    "\n",
    "    for j in range(k):\n",
    "        for i in range(len(X)):\n",
    "            dim[j].append(X[i][j])\n",
    "\n",
    "\n",
    "    Data = {'x': dim[0],\n",
    "            'y': dim[1]\n",
    "           }\n",
    "\n",
    "    df = DataFrame(Data,columns=['x','y'])\n",
    "\n",
    "    kmeans = KMeans(n_clusters=k).fit(df)\n",
    "\n",
    "    kmeans_errors = 0\n",
    "    for i in range(k):\n",
    "        mode = scipy.stats.mode(kmeans.labels_[i*n:(i+1)*n])\n",
    "        for j in range(i*n,(i+1)*n):\n",
    "            if kmeans.labels_[j] != int(mode[0]):\n",
    "                kmeans_errors += 1\n",
    "    return kmeans_errors"
   ]
  },
  {
   "cell_type": "code",
   "execution_count": 13,
   "metadata": {},
   "outputs": [],
   "source": [
    "def Gmm(X):\n",
    "    dim = [0]*k\n",
    "    for i in range(k):\n",
    "        dim[i] = list()\n",
    "\n",
    "    for j in range(k):\n",
    "        for i in range(len(X)):\n",
    "            dim[j].append(X[i][j])\n",
    "\n",
    "\n",
    "    Data = {'x': dim[0],\n",
    "            'y': dim[1]\n",
    "           }\n",
    "\n",
    "    df = DataFrame(Data,columns=['x','y'])\n",
    "\n",
    "    gmm = GaussianMixture(n_components=k)\n",
    "    gmm.fit(df)\n",
    "\n",
    "    \n",
    "    gmm_labels = gmm.predict(df)\n",
    "\n",
    "    gmm_errors = 0\n",
    "    for i in range(k):\n",
    "        mode = scipy.stats.mode(gmm_labels[i*n:(i+1)*n])\n",
    "        for j in range(i*n,(i+1)*n):\n",
    "            if gmm_labels[j] != int(mode[0]):\n",
    "                gmm_errors += 1\n",
    "    return gmm_errors"
   ]
  },
  {
   "cell_type": "code",
   "execution_count": 14,
   "metadata": {},
   "outputs": [],
   "source": [
    "def MyAlgorithm(X,A_est,Sigma):\n",
    "    distances_from_center = [0] * k\n",
    "\n",
    "    estimated_means = []\n",
    "    for i in range(k):\n",
    "        mean_est = A_est[:, i].T\n",
    "        estimated_means.append(mean_est)\n",
    "\n",
    "    my_algorithm_clusters =[]\n",
    "\n",
    "    for j in range(k):\n",
    "        p = multivariateGaussian(X,estimated_means[j],Sigma)\n",
    "        cluster_x = list()\n",
    "        cluster_y = list()\n",
    "\n",
    "        list1 = p\n",
    "        list2 = X\n",
    "        list1, list2 = zip(*sorted(zip(list1, list2), reverse=True))\n",
    "        for i in list2[:n]:\n",
    "            dist = (i[0] - estimated_means[j][0])**2 + (i[1] - estimated_means[j][1])**2\n",
    "            if (dist < 9*(s_est**2)):\n",
    "                distances_from_center[j] += dist\n",
    "                cluster_x.append(i[0])\n",
    "                cluster_y.append(i[1])\n",
    "                my_algorithm_clusters.append(j)\n",
    "\n",
    "    errors = 0\n",
    "    for i in range(len(my_algorithm_clusters)):\n",
    "        if (my_algorithm_clusters[i] != true_labels[i]):\n",
    "            errors += 1\n",
    "    return errors"
   ]
  },
  {
   "cell_type": "code",
   "execution_count": 15,
   "metadata": {},
   "outputs": [
    {
     "name": "stdout",
     "output_type": "stream",
     "text": [
      "Экспериментов было проведено 1000\n",
      "Средняя точность Kmeans 91.92816666666651 %\n",
      "Средняя точность GMM 91.76233333333325 %\n",
      "Средняя точность моего алгоритма 94.86599999999994 %\n"
     ]
    }
   ],
   "source": [
    "TOTAL_ITERATIONS = 1000\n",
    "my_alg_average = 0\n",
    "gmm_average = 0\n",
    "kmeans_average = 0\n",
    "for t in range(TOTAL_ITERATIONS):\n",
    "    X, A = generate_data()\n",
    "\n",
    "    mu = calculate_first_moment(X)\n",
    "    Sigma = calculate_second_moment(X)\n",
    "\n",
    "    s_est, W, X_whit = extract_information_from_second_moment(Sigma, X)\n",
    "\n",
    "    V_est, lamb = perform_tensor_power_method(X_whit, W, s_est, mu)\n",
    "\n",
    "    A_est = perform_backwards_transformation(V_est, lamb)\n",
    "    \n",
    "    kmeans_errors = Kmeans(X)\n",
    "    gmm_errors = Gmm(X)\n",
    "    my_errors = MyAlgorithm(X,A_est,Sigma)\n",
    "    \n",
    "    My_algorithm_precision = (1-my_errors/len(true_labels))*100\n",
    "    my_alg_average += My_algorithm_precision\n",
    "\n",
    "    gmm_precision = (1-gmm_errors/len(true_labels))*100\n",
    "    gmm_average += gmm_precision\n",
    "    \n",
    "    kmeans_precision = (1-kmeans_errors/len(true_labels))*100\n",
    "    kmeans_average += kmeans_precision\n",
    "    \n",
    "kmeans_average /= TOTAL_ITERATIONS\n",
    "gmm_average /= TOTAL_ITERATIONS\n",
    "my_alg_average /= TOTAL_ITERATIONS\n",
    "\n",
    "print(\"Экспериментов было проведено\", TOTAL_ITERATIONS)\n",
    "print(\"Средняя точность Kmeans\",kmeans_average,\"%\")\n",
    "print(\"Средняя точность GMM\",gmm_average,\"%\")\n",
    "print(\"Средняя точность моего алгоритма\",my_alg_average,\"%\")"
   ]
  },
  {
   "cell_type": "code",
   "execution_count": null,
   "metadata": {},
   "outputs": [],
   "source": []
  }
 ],
 "metadata": {
  "kernelspec": {
   "display_name": "Python 3",
   "language": "python",
   "name": "python3"
  },
  "language_info": {
   "codemirror_mode": {
    "name": "ipython",
    "version": 3
   },
   "file_extension": ".py",
   "mimetype": "text/x-python",
   "name": "python",
   "nbconvert_exporter": "python",
   "pygments_lexer": "ipython3",
   "version": "3.6.8"
  }
 },
 "nbformat": 4,
 "nbformat_minor": 2
}
